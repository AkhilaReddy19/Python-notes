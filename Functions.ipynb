{
 "cells": [
  {
   "cell_type": "code",
   "execution_count": 16,
   "metadata": {},
   "outputs": [
    {
     "data": {
      "text/plain": [
       "30"
      ]
     },
     "execution_count": 16,
     "metadata": {},
     "output_type": "execute_result"
    }
   ],
   "source": [
    "def add(a,b):\n",
    "    return a+b\n",
    "add(10,20)\n",
    "\n"
   ]
  },
  {
   "cell_type": "code",
   "execution_count": 12,
   "metadata": {},
   "outputs": [
    {
     "name": "stdout",
     "output_type": "stream",
     "text": [
      "area=  28.274333882308138\n",
      "perimeter=  12.566370614359172\n"
     ]
    }
   ],
   "source": [
    "import math\n",
    "def area(r):\n",
    "    return math.pi*r*r\n",
    "def peri(r):\n",
    "    return 2*math.pi*r\n",
    "\n",
    "print(\"area= \",area(3))\n",
    "print(\"perimeter= \",peri(2))"
   ]
  },
  {
   "cell_type": "code",
   "execution_count": 23,
   "metadata": {},
   "outputs": [
    {
     "name": "stdout",
     "output_type": "stream",
     "text": [
      "60\n",
      "60\n"
     ]
    }
   ],
   "source": [
    "def add(*x):\n",
    "    sum1=0\n",
    "    for i in x:\n",
    "        sum1=sum1+i\n",
    "    return sum1\n",
    "\n",
    "print(add(10,20,30))\n",
    "print(add(20,40))"
   ]
  },
  {
   "cell_type": "code",
   "execution_count": 27,
   "metadata": {},
   "outputs": [
    {
     "name": "stdout",
     "output_type": "stream",
     "text": [
      "10 20 30\n"
     ]
    },
    {
     "data": {
      "text/plain": [
       "60"
      ]
     },
     "execution_count": 27,
     "metadata": {},
     "output_type": "execute_result"
    }
   ],
   "source": [
    "def add(a,b,c=40):\n",
    "    print(a,b,c)\n",
    "    return a+b+c\n",
    "add(10,20,c=30)"
   ]
  },
  {
   "cell_type": "code",
   "execution_count": 32,
   "metadata": {},
   "outputs": [
    {
     "name": "stdout",
     "output_type": "stream",
     "text": [
      "enter a number: 4\n",
      "square of n is:  16\n",
      "cube of n is:  64\n"
     ]
    }
   ],
   "source": [
    "def sq(x):\n",
    "    return x*x\n",
    "def cube(x):\n",
    "    return sq(x)*x\n",
    "\n",
    "n=int(input(\"enter a number: \"))\n",
    "print(\"square of n is: \",sq(n))\n",
    "print(\"cube of n is: \",cube(n))\n",
    "\n"
   ]
  },
  {
   "cell_type": "code",
   "execution_count": 34,
   "metadata": {},
   "outputs": [
    {
     "name": "stdout",
     "output_type": "stream",
     "text": [
      "40 20 30\n",
      "90\n",
      "None\n"
     ]
    }
   ],
   "source": [
    "def addition(a,b,c):\n",
    "    print(a,b,c)\n",
    "    print(a+b+c)\n",
    "print(addition(b=20,c=30,a=40)) #None because there is return statement in function"
   ]
  },
  {
   "cell_type": "code",
   "execution_count": null,
   "metadata": {},
   "outputs": [
    {
     "name": "stdout",
     "output_type": "stream",
     "text": [
      "Enter a number: 5\n"
     ]
    }
   ],
   "source": [
    "def fact(x):\n",
    "    res=1\n",
    "    while(x>0):\n",
    "        res=res*fact(x-1)\n",
    "    return res\n",
    "n=int(input(\"Enter a number: \"))\n",
    "print(\"factorial of n is: \",fact(n))"
   ]
  },
  {
   "cell_type": "code",
   "execution_count": 1,
   "metadata": {},
   "outputs": [
    {
     "name": "stdout",
     "output_type": "stream",
     "text": [
      "Enter a number: 5\n",
      "factorial of n is:  120\n"
     ]
    }
   ],
   "source": [
    "def fact(x):\n",
    "    f=1\n",
    "    while(x>0):\n",
    "        f=f*x\n",
    "        x=x-1\n",
    "    return f\n",
    "n=int(input(\"Enter a number: \"))\n",
    "print(\"factorial of n is: \",fact(n))"
   ]
  },
  {
   "cell_type": "code",
   "execution_count": 1,
   "metadata": {},
   "outputs": [
    {
     "name": "stdout",
     "output_type": "stream",
     "text": [
      "Enter first number: 10\n",
      "Enter second number: 20\n",
      "Before swapping:  10 20\n",
      "After swapping:  20 10\n"
     ]
    }
   ],
   "source": [
    "#swapping two numbers without using third variable\n",
    "\n",
    "a=int(input(\"Enter first number: \"))\n",
    "b=int(input(\"Enter second number: \"))\n",
    "print(\"Before swapping: \",a,b)\n",
    "a,b=b,a\n",
    "print(\"After swapping: \",a,b)"
   ]
  },
  {
   "cell_type": "code",
   "execution_count": 8,
   "metadata": {},
   "outputs": [
    {
     "name": "stdout",
     "output_type": "stream",
     "text": [
      "Maximum elememt in the list is:  9\n",
      "Second maximum element is:  8\n"
     ]
    }
   ],
   "source": [
    "#finding second maximum element from the list\n",
    "\n",
    "l=[4,6,3,8,2,9,7]\n",
    "max1=0\n",
    "for i in range(len(l)-1):\n",
    "    if(max1<l[i]):\n",
    "        max1=l[i]\n",
    "print(\"Maximum elememt in the list is: \",max1)\n",
    "max2=0\n",
    "for i in range(len(l)-1):\n",
    "    if(l[i]<max1):\n",
    "        if(max2<l[i]):\n",
    "            max2=l[i]\n",
    "print(\"Second maximum element is: \",max2)\n",
    "    \n",
    "        "
   ]
  },
  {
   "cell_type": "code",
   "execution_count": 1,
   "metadata": {},
   "outputs": [
    {
     "name": "stdout",
     "output_type": "stream",
     "text": [
      "Enter a number: 567\n",
      "Number of digits in given number is:  3\n"
     ]
    }
   ],
   "source": [
    "#Finding no of digits in a number without using loops\n",
    "\n",
    "def count_digit(n):\n",
    "    if(n==0):\n",
    "        return 0\n",
    "    return 1+count_digit(n//10)\n",
    "n=int(input(\"Enter a number: \"))\n",
    "print(\"Number of digits in given number is: \",count_digit(n))"
   ]
  },
  {
   "cell_type": "code",
   "execution_count": null,
   "metadata": {},
   "outputs": [],
   "source": []
  }
 ],
 "metadata": {
  "kernelspec": {
   "display_name": "Python 3",
   "language": "python",
   "name": "python3"
  },
  "language_info": {
   "codemirror_mode": {
    "name": "ipython",
    "version": 3
   },
   "file_extension": ".py",
   "mimetype": "text/x-python",
   "name": "python",
   "nbconvert_exporter": "python",
   "pygments_lexer": "ipython3",
   "version": "3.7.3"
  }
 },
 "nbformat": 4,
 "nbformat_minor": 2
}
